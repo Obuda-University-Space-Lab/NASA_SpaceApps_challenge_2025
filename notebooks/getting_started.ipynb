{
 "cells": [
  {
   "cell_type": "markdown",
   "metadata": {},
   "source": [
    "# Terra & Luna Analytics - Getting Started\n",
    "\n",
    "Welcome to the Terra & Luna Analytics platform for NASA Space Apps Challenge 2025!\n",
    "\n",
    "This notebook demonstrates the basic functionality and capabilities of our Earth and Moon data analysis platform."
   ]
  },
  {
   "cell_type": "markdown",
   "metadata": {},
   "source": [
    "## Setup and Imports"
   ]
  },
  {
   "cell_type": "code",
   "execution_count": null,
   "metadata": {},
   "outputs": [],
   "source": [
    "import sys\n",
    "import os\n",
    "from pathlib import Path\n",
    "\n",
    "# Add src directory to path\n",
    "src_path = Path('../src')\n",
    "sys.path.insert(0, str(src_path))\n",
    "\n",
    "# Core imports\n",
    "import numpy as np\n",
    "import pandas as pd\n",
    "import matplotlib.pyplot as plt\n",
    "import seaborn as sns\n",
    "import plotly.express as px\n",
    "import plotly.graph_objects as go\n",
    "\n",
    "# Project imports\n",
    "from analytics.core import AnalyticsEngine\n",
    "from terra.earth_analysis import TerraDataProcessor\n",
    "from luna.moon_analysis import LunaDataProcessor\n",
    "\n",
    "print(\"✅ Setup complete!\")"
   ]
  },
  {
   "cell_type": "markdown",
   "metadata": {},
   "source": [
    "## Initialize Analytics Engine"
   ]
  },
  {
   "cell_type": "code",
   "execution_count": null,
   "metadata": {},
   "outputs": [],
   "source": [
    "# Initialize the main analytics engine\n",
    "engine = AnalyticsEngine()\n",
    "\n",
    "# Initialize specialized processors\n",
    "terra_processor = TerraDataProcessor()\n",
    "luna_processor = LunaDataProcessor()\n",
    "\n",
    "print(\"🚀 Analytics engine and processors initialized!\")"
   ]
  },
  {
   "cell_type": "markdown",
   "metadata": {},
   "source": [
    "## Terra (Earth) Data Analysis Example"
   ]
  },
  {
   "cell_type": "code",
   "execution_count": null,
   "metadata": {},
   "outputs": [],
   "source": [
    "# Example: Analyze environmental indices\n",
    "sample_data = {'region': 'Europe', 'time_period': '2024-01'}\n",
    "env_indices = terra_processor.calculate_environmental_indices(sample_data)\n",
    "\n",
    "print(\"🌍 Environmental Indices Analysis:\")\n",
    "for index, value in env_indices.items():\n",
    "    if isinstance(value, (int, float)):\n",
    "        print(f\"  {index.upper()}: {value:.3f}\")\n",
    "\n",
    "# Visualize environmental indices\n",
    "indices = ['NDVI', 'NDWI', 'EVI']\n",
    "values = [env_indices['ndvi'], env_indices['ndwi'], env_indices['evi']]\n",
    "\n",
    "fig = px.bar(x=indices, y=values, \n",
    "             title=\"Environmental Indices Analysis\",\n",
    "             color=indices,\n",
    "             color_discrete_sequence=['#27ae60', '#3498db', '#2ecc71'])\n",
    "fig.show()"
   ]
  },
  {
   "cell_type": "markdown",
   "metadata": {},
   "source": [
    "## Luna (Moon) Data Analysis Example"
   ]
  },
  {
   "cell_type": "code",
   "execution_count": null,
   "metadata": {},
   "outputs": [],
   "source": [
    "# Example: Analyze lunar surface composition\n",
    "sample_coordinates = (45.0, -120.0)  # Sample coordinates\n",
    "surface_comp = luna_processor.analyze_surface_composition(sample_coordinates)\n",
    "\n",
    "print(\"🌙 Lunar Surface Composition Analysis:\")\n",
    "print(f\"  Location: {surface_comp['coordinates']}\")\n",
    "print(f\"  Regolith Depth: {surface_comp['regolith_depth']:.2f} meters\")\n",
    "print(f\"  Water Ice Probability: {surface_comp['water_ice_probability']:.2%}\")\n",
    "\n",
    "# Visualize mineral composition\n",
    "minerals = list(surface_comp['mineral_composition'].keys())\n",
    "percentages = list(surface_comp['mineral_composition'].values())\n",
    "\n",
    "fig = px.pie(values=percentages, names=minerals,\n",
    "             title=\"Lunar Surface Mineral Composition\",\n",
    "             color_discrete_sequence=['#8e44ad', '#9b59b6', '#af7ac5', '#c39bd3', '#d7bde2'])\n",
    "fig.show()"
   ]
  },
  {
   "cell_type": "markdown",
   "metadata": {},
   "source": [
    "## Landing Site Suitability Analysis"
   ]
  },
  {
   "cell_type": "code",
   "execution_count": null,
   "metadata": {},
   "outputs": [],
   "source": [
    "# Analyze multiple potential landing sites\n",
    "landing_sites = [\n",
    "    (0.0, 0.0),      # Equatorial site\n",
    "    (-89.5, 0.0),    # South polar site\n",
    "    (45.0, 90.0),    # Mid-latitude site\n",
    "    (20.0, -30.0),   # Mare site\n",
    "    (-20.0, 60.0)    # Highland site\n",
    "]\n",
    "\n",
    "site_names = ['Equatorial', 'South Polar', 'Mid-Latitude', 'Mare', 'Highland']\n",
    "suitability_results = []\n",
    "\n",
    "for i, coords in enumerate(landing_sites):\n",
    "    result = luna_processor.calculate_landing_site_suitability(coords)\n",
    "    result['name'] = site_names[i]\n",
    "    suitability_results.append(result)\n",
    "\n",
    "# Create DataFrame for visualization\n",
    "df = pd.DataFrame([\n",
    "    {\n",
    "        'Site': r['name'],\n",
    "        'Safety Score': r['safety_score'],\n",
    "        'Science Value': r['science_value'],\n",
    "        'Resource Potential': r['resource_potential'],\n",
    "        'Overall Score': r['overall_score']\n",
    "    }\n",
    "    for r in suitability_results\n",
    "])\n",
    "\n",
    "print(\"🚀 Landing Site Suitability Results:\")\n",
    "print(df.round(3))"
   ]
  },
  {
   "cell_type": "code",
   "execution_count": null,
   "metadata": {},
   "outputs": [],
   "source": [
    "# Visualize landing site comparison\n",
    "fig = go.Figure()\n",
    "\n",
    "fig.add_trace(go.Scatter(\n",
    "    x=df['Safety Score'],\n",
    "    y=df['Science Value'],\n",
    "    mode='markers+text',\n",
    "    text=df['Site'],\n",
    "    textposition=\"top center\",\n",
    "    marker=dict(\n",
    "        size=df['Overall Score'] * 30,\n",
    "        color=df['Resource Potential'],\n",
    "        colorscale='Viridis',\n",
    "        showscale=True,\n",
    "        colorbar=dict(title=\"Resource Potential\")\n",
    "    ),\n",
    "    name='Landing Sites'\n",
    "))\n",
    "\n",
    "fig.update_layout(\n",
    "    title=\"Landing Site Suitability Assessment<br><sub>Marker size represents overall score</sub>\",\n",
    "    xaxis_title=\"Safety Score\",\n",
    "    yaxis_title=\"Science Value\",\n",
    "    width=800,\n",
    "    height=600\n",
    ")\n",
    "\n",
    "fig.show()"
   ]
  },
  {
   "cell_type": "markdown",
   "metadata": {},
   "source": [
    "## Cross-Platform Analysis"
   ]
  },
  {
   "cell_type": "code",
   "execution_count": null,
   "metadata": {},
   "outputs": [],
   "source": [
    "# Load sample data into the engine\n",
    "engine.load_terra_data(\"satellite_imagery\", region=\"global\", resolution=\"1km\")\n",
    "engine.load_terra_data(\"climate_data\", source=\"MODIS\", time_range=\"2020-2024\")\n",
    "engine.load_luna_data(\"LRO_data\", instrument=\"LROC\", coverage=\"global\")\n",
    "engine.load_luna_data(\"surface_composition\", source=\"Chandrayaan\", region=\"polar\")\n",
    "\n",
    "# Perform cross-platform analysis\n",
    "cross_analysis = engine.process_cross_platform_analysis()\n",
    "\n",
    "print(\"🔬 Cross-Platform Analysis Results:\")\n",
    "print(f\"  Terra datasets: {cross_analysis['terra_datasets']}\")\n",
    "print(f\"  Luna datasets: {cross_analysis['luna_datasets']}\")\n",
    "print(f\"  Analysis timestamp: {cross_analysis['analysis_timestamp']}\")\n",
    "print(\"\\n  Insights:\")\n",
    "for insight in cross_analysis['insights']:\n",
    "    print(f\"    • {insight}\")\n",
    "\n",
    "# Get data summary\n",
    "summary = engine.get_data_summary()\n",
    "print(f\"\\n📊 Data Summary: {summary}\")"
   ]
  },
  {
   "cell_type": "markdown",
   "metadata": {},
   "source": [
    "## Next Steps\n",
    "\n",
    "This notebook demonstrates the basic capabilities of the Terra & Luna Analytics platform. To explore more features:\n",
    "\n",
    "1. **Run the Dashboard**: Execute `python src/main.py` to launch the interactive dashboard\n",
    "2. **Load Real Data**: Replace sample data with actual NASA datasets\n",
    "3. **Advanced Analysis**: Explore the specialized analysis functions in Terra and Luna modules\n",
    "4. **Custom Visualizations**: Create your own plots and charts using the visualization tools\n",
    "\n",
    "For more information, check out the project documentation and the NASA Space Apps Challenge resources!"
   ]
  }
 ],
 "metadata": {
  "kernelspec": {
   "display_name": "Python 3",
   "language": "python",
   "name": "python3"
  },
  "language_info": {
   "codemirror_mode": {
    "name": "ipython",
    "version": 3
   },
   "file_extension": ".py",
   "mimetype": "text/x-python",
   "name": "python",
   "nbconvert_exporter": "python",
   "pygments_lexer": "ipython3",
   "version": "3.8.5"
  }
 },
 "nbformat": 4,
 "nbformat_minor": 4
}