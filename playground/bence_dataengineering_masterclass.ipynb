{
 "cells": [
  {
   "cell_type": "code",
   "execution_count": 1,
   "id": "a6c764c0",
   "metadata": {},
   "outputs": [],
   "source": [
    "import pandas as pd\n",
    "import numpy as np\n",
    "import matplotlib.pyplot as plt\n",
    "from sklearn.preprocessing import MinMaxScaler"
   ]
  },
  {
   "cell_type": "markdown",
   "id": "68ae7c6c",
   "metadata": {},
   "source": [
    "dataset építése:"
   ]
  },
  {
   "cell_type": "code",
   "execution_count": 2,
   "id": "354e2c1e",
   "metadata": {},
   "outputs": [
    {
     "name": "stderr",
     "output_type": "stream",
     "text": [
      "C:\\Users\\Bence\\AppData\\Local\\Temp\\ipykernel_17096\\175859139.py:3: DtypeWarning: Columns (0) have mixed types. Specify dtype option on import or set low_memory=False.\n",
      "  weather = pd.read_csv(\"C:\\\\Users\\\\Bence\\\\Documents\\\\Github\\\\NASA_SpaceApps_challenge_2025\\\\data\\\\greece_fire_weather.csv\")\n"
     ]
    }
   ],
   "source": [
    "fires = pd.read_csv(\"C:\\\\Users\\\\Bence\\\\Documents\\\\Github\\\\NASA_SpaceApps_challenge_2025\\\\data\\\\greece_fire_dates.csv\")\n",
    "places = pd.read_csv(\"C:\\\\Users\\\\Bence\\\\Documents\\\\Github\\\\NASA_SpaceApps_challenge_2025\\\\data\\\\greece_fire_places.csv\")\n",
    "weather = pd.read_csv(\"C:\\\\Users\\\\Bence\\\\Documents\\\\Github\\\\NASA_SpaceApps_challenge_2025\\\\data\\\\greece_fire_weather.csv\")\n"
   ]
  },
  {
   "cell_type": "code",
   "execution_count": 3,
   "id": "38fa7f70",
   "metadata": {},
   "outputs": [],
   "source": [
    "fires = fires.drop(fires[fires[\"confidence\"] < 100].index)\n",
    "fires[\"acq_date\"] = pd.to_datetime(fires[\"acq_date\"], errors=\"coerce\")\n",
    "weather[\"time\"] = pd.to_datetime(weather[\"time\"], errors=\"coerce\")\n",
    "fires_daily = (\n",
    "    fires.groupby(\"acq_date\")\n",
    "    .size()\n",
    "    .reset_index(name=\"fire_count\")\n",
    ")\n",
    "fires_daily[\"fire_occurred\"] = (fires_daily[\"fire_count\"] > 0).astype(int)"
   ]
  },
  {
   "cell_type": "code",
   "execution_count": 4,
   "id": "7f2b509d",
   "metadata": {},
   "outputs": [],
   "source": [
    "places = places.drop(columns=[\"elevation\", \"utc_offset_seconds\", \"timezone\", \"timezone_abbreviation\"])\n",
    "\n",
    "weather = weather.merge(places, on=\"location_id\", how=\"left\")\n",
    "numeric_cols = weather.select_dtypes(include=[np.number]).columns\n",
    "# Group weather by day, aggregate with mean, keep original column names\n",
    "weather_daily = weather.groupby(\"time\")[numeric_cols].mean().reset_index()"
   ]
  },
  {
   "cell_type": "code",
   "execution_count": 5,
   "id": "1448318f",
   "metadata": {},
   "outputs": [],
   "source": [
    "#weather.head().dtypes"
   ]
  },
  {
   "cell_type": "code",
   "execution_count": 6,
   "id": "fa88d43b",
   "metadata": {},
   "outputs": [
    {
     "name": "stderr",
     "output_type": "stream",
     "text": [
      "C:\\Users\\Bence\\AppData\\Local\\Temp\\ipykernel_17096\\550816031.py:4: FutureWarning: A value is trying to be set on a copy of a DataFrame or Series through chained assignment using an inplace method.\n",
      "The behavior will change in pandas 3.0. This inplace method will never work because the intermediate object on which we are setting values always behaves as a copy.\n",
      "\n",
      "For example, when doing 'df[col].method(value, inplace=True)', try using 'df.method({col: value}, inplace=True)' or df[col] = df[col].method(value) instead, to perform the operation inplace on the original object.\n",
      "\n",
      "\n",
      "  df[\"fire_occurred\"].fillna(0, inplace=True)\n"
     ]
    }
   ],
   "source": [
    "# Merge daily weather and fire data for timeseries creation\n",
    "df = weather_daily.merge(fires_daily, left_on=\"time\", right_on=\"acq_date\", how=\"left\")\n",
    "# df = df.drop(columns=\"time\")\n",
    "df[\"fire_occurred\"].fillna(0, inplace=True)\n",
    "df.drop(columns=[\"acq_date\"], inplace=True, errors=\"ignore\")\n",
    "#df.head().dtypes"
   ]
  },
  {
   "cell_type": "code",
   "execution_count": 7,
   "id": "77ff81d9",
   "metadata": {},
   "outputs": [
    {
     "name": "stdout",
     "output_type": "stream",
     "text": [
      "        time  weather_code (wmo code)  temperature_2m_mean (°C)  \\\n",
      "0 2000-01-18                     42.6                      4.70   \n",
      "1 2000-01-19                     58.6                      5.46   \n",
      "2 2000-01-20                     26.0                      1.50   \n",
      "3 2000-01-21                      2.4                      1.64   \n",
      "4 2000-01-22                     50.2                      4.44   \n",
      "\n",
      "   temperature_2m_max (°C)  temperature_2m_min (°C)  \\\n",
      "0                     8.66                     0.92   \n",
      "1                     8.28                     2.20   \n",
      "2                     4.16                    -1.02   \n",
      "3                     5.58                    -1.96   \n",
      "4                     7.96                     0.68   \n",
      "\n",
      "   apparent_temperature_mean (°C)  apparent_temperature_max (°C)  \\\n",
      "0                            0.68                           3.90   \n",
      "1                            1.88                           5.80   \n",
      "2                           -3.18                          -0.40   \n",
      "3                           -2.48                           1.06   \n",
      "4                            0.94                           4.68   \n",
      "\n",
      "   apparent_temperature_min (°C)  daylight_duration (s)  \\\n",
      "0                          -2.60              35539.676   \n",
      "1                          -1.54              35627.036   \n",
      "2                          -5.60              35717.488   \n",
      "3                          -6.08              35811.142   \n",
      "4                          -2.68              35907.836   \n",
      "\n",
      "   sunshine_duration (s)  ...  precipitation_hours (h)  \\\n",
      "0              29588.044  ...                      4.8   \n",
      "1              19829.890  ...                     10.0   \n",
      "2              30066.572  ...                      2.8   \n",
      "3              30503.982  ...                      0.0   \n",
      "4              29952.912  ...                      8.4   \n",
      "\n",
      "   wind_speed_10m_max (km/h)  wind_gusts_10m_max (km/h)  \\\n",
      "0                      25.74                      62.58   \n",
      "1                      19.90                      55.30   \n",
      "2                      19.08                      47.54   \n",
      "3                      15.88                      42.98   \n",
      "4                      16.58                      49.90   \n",
      "\n",
      "   wind_direction_10m_dominant (°)  shortwave_radiation_sum (MJ/m²)  \\\n",
      "0                            299.0                            8.850   \n",
      "1                            309.6                            6.274   \n",
      "2                             84.8                           10.484   \n",
      "3                            224.2                            9.946   \n",
      "4                            301.4                            8.514   \n",
      "\n",
      "   et0_fao_evapotranspiration (mm)   latitude  longitude  fire_count  \\\n",
      "0                            1.154  38.024603  23.138707         0.0   \n",
      "1                            1.022  38.024603  23.138707         0.0   \n",
      "2                            1.480  38.024603  23.138707         0.0   \n",
      "3                            1.330  38.024603  23.138707         0.0   \n",
      "4                            1.200  38.024603  23.138707         0.0   \n",
      "\n",
      "   fire_occurred  \n",
      "0            0.0  \n",
      "1            0.0  \n",
      "2            0.0  \n",
      "3            0.0  \n",
      "4            0.0  \n",
      "\n",
      "[5 rows x 23 columns]\n"
     ]
    },
    {
     "name": "stderr",
     "output_type": "stream",
     "text": [
      "C:\\Users\\Bence\\AppData\\Local\\Temp\\ipykernel_17096\\1877599873.py:1: FutureWarning: A value is trying to be set on a copy of a DataFrame or Series through chained assignment using an inplace method.\n",
      "The behavior will change in pandas 3.0. This inplace method will never work because the intermediate object on which we are setting values always behaves as a copy.\n",
      "\n",
      "For example, when doing 'df[col].method(value, inplace=True)', try using 'df.method({col: value}, inplace=True)' or df[col] = df[col].method(value) instead, to perform the operation inplace on the original object.\n",
      "\n",
      "\n",
      "  df[\"fire_count\"].fillna(0, inplace=True)\n"
     ]
    }
   ],
   "source": [
    "df[\"fire_count\"].fillna(0, inplace=True)\n",
    "df.sort_values(\"time\", inplace=True)\n",
    "df.reset_index(drop=True, inplace=True)\n",
    "print(df.head())"
   ]
  },
  {
   "cell_type": "code",
   "execution_count": 8,
   "id": "67fda574",
   "metadata": {},
   "outputs": [
    {
     "name": "stdout",
     "output_type": "stream",
     "text": [
      "Input shape: (7982, 30, 15)  (samples, time_steps, features)\n",
      "Target shape: (7982,)\n"
     ]
    }
   ],
   "source": [
    "window_size = 30  # múltbeli napok\n",
    "forecast_horizon = 7  # előrejelzési idő\n",
    "\n",
    "feature_cols = [\n",
    "    col\n",
    "    for col in df.columns\n",
    "    if col\n",
    "    in [\n",
    "        \"temperature_2m_max (°C)\",\n",
    "        \"temperature_2m_min (°C)\",\n",
    "        \"apparent_temperature_max (°C)\",\n",
    "        \"apparent_temperature_min (°C)\",\n",
    "        #\"sunrise (iso8601)\",\n",
    "        #\"sunset (iso8601)\",\n",
    "        \"daylight_duration (s)\",\n",
    "        \"sunshine_duration (s)\",\n",
    "        \"precipitation_sum (mm)\",\n",
    "        \"rain_sum (mm)\",\n",
    "        \"snowfall_sum (cm)\",\n",
    "        \"precipitation_hours (h)\",\n",
    "        \"wind_speed_10m_max (km/h)\",\n",
    "        \"wind_gusts_10m_max (km/h)\",\n",
    "        \"wind_direction_10m_dominant (°)\",\n",
    "        \"shortwave_radiation_sum (MJ/m²)\",\n",
    "        \"et0_fao_evapotranspiration (mm)\"\n",
    "    ]\n",
    "]\n",
    "scaler = MinMaxScaler()\n",
    "df_scaled = df.copy()\n",
    "df_scaled[feature_cols] = scaler.fit_transform(df_scaled[feature_cols])\n",
    "\n",
    "X, y = [], []\n",
    "\n",
    "for i in range(len(df_scaled) - window_size - forecast_horizon):\n",
    "    past_window = df_scaled.iloc[i : i + window_size][feature_cols].values\n",
    "    target_window = df_scaled.iloc[\n",
    "        i + window_size : i + window_size + forecast_horizon\n",
    "    ][\"fire_occurred\"]\n",
    "    X.append(past_window)\n",
    "    y.append(1 if target_window.max() > 0 else 0)\n",
    "\n",
    "\n",
    "X = np.array(X)\n",
    "y = np.array(y).astype(np.float32)\n",
    "\n",
    "print(f\"Input shape: {X.shape}  (samples, time_steps, features)\")\n",
    "print(f\"Target shape: {y.shape}\")\n",
    "\n",
    "np.savez_compressed(\"greece_fire_timeseries.npz\", X=X, y=y)\n"
   ]
  },
  {
   "cell_type": "code",
   "execution_count": 13,
   "id": "37660f81",
   "metadata": {},
   "outputs": [
    {
     "name": "stdout",
     "output_type": "stream",
     "text": [
      "23\n",
      "23\n",
      "15\n",
      "['temperature_2m_max (°C)', 'temperature_2m_min (°C)', 'apparent_temperature_max (°C)', 'apparent_temperature_min (°C)', 'daylight_duration (s)', 'sunshine_duration (s)', 'precipitation_sum (mm)', 'rain_sum (mm)', 'snowfall_sum (cm)', 'precipitation_hours (h)', 'wind_speed_10m_max (km/h)', 'wind_gusts_10m_max (km/h)', 'wind_direction_10m_dominant (°)', 'shortwave_radiation_sum (MJ/m²)', 'et0_fao_evapotranspiration (mm)']\n"
     ]
    }
   ],
   "source": [
    "cols_scaled = df_scaled.columns.tolist()\n",
    "print(len(cols_scaled))\n",
    "cols_df = df.columns.tolist()\n",
    "print(len(cols_df))\n",
    "print(len(feature_cols))\n",
    "print(feature_cols)"
   ]
  },
  {
   "cell_type": "markdown",
   "id": "a19a1c08",
   "metadata": {},
   "source": [
    "Model tanítás:"
   ]
  },
  {
   "cell_type": "code",
   "execution_count": null,
   "id": "6e707e9f",
   "metadata": {},
   "outputs": [
    {
     "name": "stdout",
     "output_type": "stream",
     "text": [
      "Input shape: (7982, 30, 15)\n",
      "Target shape: (7982,)\n",
      "Fold 1: Train=1332, Test=1330\n",
      "Fold 2: Train=2662, Test=1330\n",
      "Fold 3: Train=3992, Test=1330\n",
      "Fold 4: Train=5322, Test=1330\n",
      "Fold 5: Train=6652, Test=1330\n"
     ]
    },
    {
     "name": "stderr",
     "output_type": "stream",
     "text": [
      "c:\\Users\\Bence\\Documents\\Github\\NASA_SpaceApps_challenge_2025\\venv\\Lib\\site-packages\\keras\\src\\layers\\rnn\\rnn.py:199: UserWarning: Do not pass an `input_shape`/`input_dim` argument to a layer. When using Sequential models, prefer using an `Input(shape)` object as the first layer in the model instead.\n",
      "  super().__init__(**kwargs)\n"
     ]
    },
    {
     "name": "stdout",
     "output_type": "stream",
     "text": [
      "Epoch 1/30\n",
      "\u001b[1m104/104\u001b[0m \u001b[32m━━━━━━━━━━━━━━━━━━━━\u001b[0m\u001b[37m\u001b[0m \u001b[1m9s\u001b[0m 49ms/step - accuracy: 0.8235 - loss: 0.4047 - val_accuracy: 0.7932 - val_loss: 0.4440\n",
      "Epoch 2/30\n",
      "\u001b[1m104/104\u001b[0m \u001b[32m━━━━━━━━━━━━━━━━━━━━\u001b[0m\u001b[37m\u001b[0m \u001b[1m9s\u001b[0m 49ms/step - accuracy: 0.8235 - loss: 0.4047 - val_accuracy: 0.7932 - val_loss: 0.4440\n",
      "Epoch 2/30\n",
      "\u001b[1m104/104\u001b[0m \u001b[32m━━━━━━━━━━━━━━━━━━━━\u001b[0m\u001b[37m\u001b[0m \u001b[1m4s\u001b[0m 39ms/step - accuracy: 0.8534 - loss: 0.3613 - val_accuracy: 0.8105 - val_loss: 0.4119\n",
      "Epoch 3/30\n",
      "\u001b[1m104/104\u001b[0m \u001b[32m━━━━━━━━━━━━━━━━━━━━\u001b[0m\u001b[37m\u001b[0m \u001b[1m4s\u001b[0m 39ms/step - accuracy: 0.8534 - loss: 0.3613 - val_accuracy: 0.8105 - val_loss: 0.4119\n",
      "Epoch 3/30\n",
      "\u001b[1m104/104\u001b[0m \u001b[32m━━━━━━━━━━━━━━━━━━━━\u001b[0m\u001b[37m\u001b[0m \u001b[1m5s\u001b[0m 44ms/step - accuracy: 0.8581 - loss: 0.3513 - val_accuracy: 0.8180 - val_loss: 0.4064\n",
      "Epoch 4/30\n",
      "\u001b[1m104/104\u001b[0m \u001b[32m━━━━━━━━━━━━━━━━━━━━\u001b[0m\u001b[37m\u001b[0m \u001b[1m5s\u001b[0m 44ms/step - accuracy: 0.8581 - loss: 0.3513 - val_accuracy: 0.8180 - val_loss: 0.4064\n",
      "Epoch 4/30\n",
      "\u001b[1m104/104\u001b[0m \u001b[32m━━━━━━━━━━━━━━━━━━━━\u001b[0m\u001b[37m\u001b[0m \u001b[1m4s\u001b[0m 42ms/step - accuracy: 0.8629 - loss: 0.3434 - val_accuracy: 0.7962 - val_loss: 0.4454\n",
      "Epoch 5/30\n",
      "\u001b[1m104/104\u001b[0m \u001b[32m━━━━━━━━━━━━━━━━━━━━\u001b[0m\u001b[37m\u001b[0m \u001b[1m4s\u001b[0m 42ms/step - accuracy: 0.8629 - loss: 0.3434 - val_accuracy: 0.7962 - val_loss: 0.4454\n",
      "Epoch 5/30\n",
      "\u001b[1m104/104\u001b[0m \u001b[32m━━━━━━━━━━━━━━━━━━━━\u001b[0m\u001b[37m\u001b[0m \u001b[1m5s\u001b[0m 44ms/step - accuracy: 0.8635 - loss: 0.3361 - val_accuracy: 0.8293 - val_loss: 0.4154\n",
      "Epoch 6/30\n",
      "\u001b[1m104/104\u001b[0m \u001b[32m━━━━━━━━━━━━━━━━━━━━\u001b[0m\u001b[37m\u001b[0m \u001b[1m5s\u001b[0m 44ms/step - accuracy: 0.8635 - loss: 0.3361 - val_accuracy: 0.8293 - val_loss: 0.4154\n",
      "Epoch 6/30\n",
      "\u001b[1m104/104\u001b[0m \u001b[32m━━━━━━━━━━━━━━━━━━━━\u001b[0m\u001b[37m\u001b[0m \u001b[1m5s\u001b[0m 44ms/step - accuracy: 0.8644 - loss: 0.3350 - val_accuracy: 0.8331 - val_loss: 0.3814\n",
      "Epoch 7/30\n",
      "\u001b[1m104/104\u001b[0m \u001b[32m━━━━━━━━━━━━━━━━━━━━\u001b[0m\u001b[37m\u001b[0m \u001b[1m5s\u001b[0m 44ms/step - accuracy: 0.8644 - loss: 0.3350 - val_accuracy: 0.8331 - val_loss: 0.3814\n",
      "Epoch 7/30\n",
      "\u001b[1m104/104\u001b[0m \u001b[32m━━━━━━━━━━━━━━━━━━━━\u001b[0m\u001b[37m\u001b[0m \u001b[1m4s\u001b[0m 42ms/step - accuracy: 0.8621 - loss: 0.3350 - val_accuracy: 0.8263 - val_loss: 0.4096\n",
      "Epoch 8/30\n",
      "\u001b[1m104/104\u001b[0m \u001b[32m━━━━━━━━━━━━━━━━━━━━\u001b[0m\u001b[37m\u001b[0m \u001b[1m4s\u001b[0m 42ms/step - accuracy: 0.8621 - loss: 0.3350 - val_accuracy: 0.8263 - val_loss: 0.4096\n",
      "Epoch 8/30\n",
      "\u001b[1m104/104\u001b[0m \u001b[32m━━━━━━━━━━━━━━━━━━━━\u001b[0m\u001b[37m\u001b[0m \u001b[1m4s\u001b[0m 42ms/step - accuracy: 0.8677 - loss: 0.3269 - val_accuracy: 0.7737 - val_loss: 0.4786\n",
      "Epoch 9/30\n",
      "\u001b[1m104/104\u001b[0m \u001b[32m━━━━━━━━━━━━━━━━━━━━\u001b[0m\u001b[37m\u001b[0m \u001b[1m4s\u001b[0m 42ms/step - accuracy: 0.8677 - loss: 0.3269 - val_accuracy: 0.7737 - val_loss: 0.4786\n",
      "Epoch 9/30\n",
      "\u001b[1m104/104\u001b[0m \u001b[32m━━━━━━━━━━━━━━━━━━━━\u001b[0m\u001b[37m\u001b[0m \u001b[1m4s\u001b[0m 40ms/step - accuracy: 0.8643 - loss: 0.3275 - val_accuracy: 0.7992 - val_loss: 0.4553\n",
      "Epoch 10/30\n",
      "\u001b[1m104/104\u001b[0m \u001b[32m━━━━━━━━━━━━━━━━━━━━\u001b[0m\u001b[37m\u001b[0m \u001b[1m4s\u001b[0m 40ms/step - accuracy: 0.8643 - loss: 0.3275 - val_accuracy: 0.7992 - val_loss: 0.4553\n",
      "Epoch 10/30\n",
      "\u001b[1m104/104\u001b[0m \u001b[32m━━━━━━━━━━━━━━━━━━━━\u001b[0m\u001b[37m\u001b[0m \u001b[1m5s\u001b[0m 45ms/step - accuracy: 0.8662 - loss: 0.3272 - val_accuracy: 0.8090 - val_loss: 0.4322\n",
      "Epoch 11/30\n",
      "\u001b[1m104/104\u001b[0m \u001b[32m━━━━━━━━━━━━━━━━━━━━\u001b[0m\u001b[37m\u001b[0m \u001b[1m5s\u001b[0m 45ms/step - accuracy: 0.8662 - loss: 0.3272 - val_accuracy: 0.8090 - val_loss: 0.4322\n",
      "Epoch 11/30\n",
      "\u001b[1m104/104\u001b[0m \u001b[32m━━━━━━━━━━━━━━━━━━━━\u001b[0m\u001b[37m\u001b[0m \u001b[1m5s\u001b[0m 44ms/step - accuracy: 0.8653 - loss: 0.3293 - val_accuracy: 0.8090 - val_loss: 0.4294\n",
      "\u001b[1m104/104\u001b[0m \u001b[32m━━━━━━━━━━━━━━━━━━━━\u001b[0m\u001b[37m\u001b[0m \u001b[1m5s\u001b[0m 44ms/step - accuracy: 0.8653 - loss: 0.3293 - val_accuracy: 0.8090 - val_loss: 0.4294\n",
      "\u001b[1m42/42\u001b[0m \u001b[32m━━━━━━━━━━━━━━━━━━━━\u001b[0m\u001b[37m\u001b[0m \u001b[1m0s\u001b[0m 11ms/step - accuracy: 0.8331 - loss: 0.3814\n",
      "\n",
      "✅ Teszt pontosság: 83.31%\n",
      "\u001b[1m42/42\u001b[0m \u001b[32m━━━━━━━━━━━━━━━━━━━━\u001b[0m\u001b[37m\u001b[0m \u001b[1m0s\u001b[0m 11ms/step - accuracy: 0.8331 - loss: 0.3814\n",
      "\n",
      "✅ Teszt pontosság: 83.31%\n"
     ]
    }
   ],
   "source": [
    "import numpy as np\n",
    "from tensorflow.keras.models import Sequential\n",
    "from tensorflow.keras.layers import LSTM, Dense, Dropout\n",
    "from tensorflow.keras.callbacks import EarlyStopping, TensorBoard\n",
    "from sklearn.model_selection import TimeSeriesSplit\n",
    "import joblib\n",
    "import datetime\n",
    "\n",
    "# TensorBoard setup for Keras\n",
    "log_dir = \"logs/fit/\" + datetime.datetime.now().strftime(\"%Y%m%d-%H%M%S\")\n",
    "tensorboard_callback = TensorBoard(log_dir=log_dir, histogram_freq=1, write_graph=True, write_images=True)\n",
    "\n",
    "# Adatok betöltése\n",
    "data = np.load(\"greece_fire_timeseries.npz\")\n",
    "X = data[\"X\"]\n",
    "y = data[\"y\"]\n",
    "\n",
    "print(\"Input shape:\", X.shape)\n",
    "print(\"Target shape:\", y.shape)\n",
    "\n",
    "# Train-test split\n",
    "tscv = TimeSeriesSplit(n_splits=5)\n",
    "\n",
    "for fold, (train_idx, test_idx) in enumerate(tscv.split(X)):\n",
    "    print(f\"Fold {fold+1}: Train={len(train_idx)}, Test={len(test_idx)}\")\n",
    "    X_train, X_test = X[train_idx], X[test_idx]\n",
    "    y_train, y_test = y[train_idx], y[test_idx]\n",
    "\n",
    "# LSTM modell\n",
    "model = Sequential([\n",
    "    LSTM(128, input_shape=(X.shape[1], X.shape[2]), return_sequences=True),\n",
    "    Dropout(0.3),\n",
    "    LSTM(64),\n",
    "    Dropout(0.3),\n",
    "    Dense(32, activation='relu'),\n",
    "    Dense(1, activation='sigmoid')  # Kimenet 0-1 között\n",
    "])\n",
    "\n",
    "model.compile(\n",
    "    optimizer='adam',\n",
    "    loss='binary_crossentropy',\n",
    "    metrics=['accuracy']\n",
    " )\n",
    "\n",
    "# Early stopping\n",
    "early_stop = EarlyStopping(monitor='val_loss', patience=5, restore_best_weights=True)\n",
    "\n",
    "# Tanítás\n",
    "history = model.fit(\n",
    "    X_train, y_train,\n",
    "    validation_data=(X_test, y_test),\n",
    "    epochs=30,\n",
    "    batch_size=64,\n",
    "    callbacks=[early_stop, tensorboard_callback],\n",
    "    verbose=1\n",
    ")\n",
    "# Modell mentése\n",
    "joblib.dump(model, 'model.pkl')\n",
    "\n",
    "# Értékelés\n",
    "loss, acc = model.evaluate(X_test, y_test)\n",
    "print(f\"\\n✅ Teszt pontosság: {acc*100:.2f}%\")"
   ]
  },
  {
   "cell_type": "code",
   "execution_count": null,
   "id": "75fc4d9e",
   "metadata": {},
   "outputs": [],
   "source": [
    "# TensorBoard setup for Keras\n",
    "from tensorflow.keras.callbacks import TensorBoard\n",
    "import datetime\n",
    "log_dir = \"logs/fit/\" + datetime.datetime.now().strftime(\"%Y%m%d-%H%M%S\")\n",
    "tensorboard_callback = TensorBoard(log_dir=log_dir, histogram_freq=1, write_graph=True, write_images=True)"
   ]
  },
  {
   "cell_type": "code",
   "execution_count": 14,
   "id": "de7578fb",
   "metadata": {},
   "outputs": [
    {
     "data": {
      "text/plain": [
       "['model_15ft_8k_sample.pkl']"
      ]
     },
     "execution_count": 14,
     "metadata": {},
     "output_type": "execute_result"
    }
   ],
   "source": [
    "joblib.dump(model, 'model_15ft_8k_sample.pkl')"
   ]
  },
  {
   "cell_type": "code",
   "execution_count": 12,
   "id": "689591dd",
   "metadata": {},
   "outputs": [
    {
     "data": {
      "image/png": "[encoded data removed]",
      "text/plain": [
       "<Figure size 1200x500 with 2 Axes>"
      ]
     },
     "metadata": {},
     "output_type": "display_data"
    }
   ],
   "source": [
    "import matplotlib.pyplot as plt\n",
    "\n",
    "plt.figure(figsize=(12, 5))\n",
    "\n",
    "# --- Loss ---\n",
    "plt.subplot(1, 2, 1)\n",
    "plt.plot(history.history[\"loss\"], label=\"Train Loss\")\n",
    "plt.plot(history.history[\"val_loss\"], label=\"Val Loss\")\n",
    "plt.title(\"Model Loss\")\n",
    "plt.xlabel(\"Epoch\")\n",
    "plt.ylabel(\"Loss\")\n",
    "plt.legend()\n",
    "plt.grid(True)\n",
    "\n",
    "# --- Accuracy ---\n",
    "plt.subplot(1, 2, 2)\n",
    "plt.plot(history.history[\"accuracy\"], label=\"Train Accuracy\")\n",
    "plt.plot(history.history[\"val_accuracy\"], label=\"Val Accuracy\")\n",
    "plt.title(\"Model Accuracy\")\n",
    "plt.xlabel(\"Epoch\")\n",
    "plt.ylabel(\"Accuracy\")\n",
    "plt.legend()\n",
    "plt.grid(True)\n",
    "\n",
    "plt.tight_layout()\n",
    "plt.show()\n"
   ]
  }
 ],
 "metadata": {
  "kernelspec": {
   "display_name": "venv",
   "language": "python",
   "name": "python3"
  },
  "language_info": {
   "codemirror_mode": {
    "name": "ipython",
    "version": 3
   },
   "file_extension": ".py",
   "mimetype": "text/x-python",
   "name": "python",
   "nbconvert_exporter": "python",
   "pygments_lexer": "ipython3",
   "version": "3.12.10"
  }
 },
 "nbformat": 4,
 "nbformat_minor": 5
}
