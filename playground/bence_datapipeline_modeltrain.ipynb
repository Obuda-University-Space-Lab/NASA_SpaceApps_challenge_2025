{
 "cells": [
  {
   "cell_type": "code",
   "execution_count": 1,
   "id": "a6c764c0",
   "metadata": {},
   "outputs": [],
   "source": [
    "import pandas as pd\n",
    "import numpy as np\n",
    "import matplotlib.pyplot as plt\n",
    "from sklearn.preprocessing import MinMaxScaler"
   ]
  },
  {
   "cell_type": "markdown",
   "id": "68ae7c6c",
   "metadata": {},
   "source": [
    "dataset építése:"
   ]
  },
  {
   "cell_type": "code",
   "execution_count": 2,
   "id": "354e2c1e",
   "metadata": {},
   "outputs": [
    {
     "name": "stderr",
     "output_type": "stream",
     "text": [
      "C:\\Users\\Bence\\AppData\\Local\\Temp\\ipykernel_20164\\175859139.py:3: DtypeWarning: Columns (0) have mixed types. Specify dtype option on import or set low_memory=False.\n",
      "  weather = pd.read_csv(\"C:\\\\Users\\\\Bence\\\\Documents\\\\Github\\\\NASA_SpaceApps_challenge_2025\\\\data\\\\greece_fire_weather.csv\")\n"
     ]
    }
   ],
   "source": [
    "fires = pd.read_csv(\"C:\\\\Users\\\\Bence\\\\Documents\\\\Github\\\\NASA_SpaceApps_challenge_2025\\\\data\\\\greece_fire_dates.csv\")\n",
    "places = pd.read_csv(\"C:\\\\Users\\\\Bence\\\\Documents\\\\Github\\\\NASA_SpaceApps_challenge_2025\\\\data\\\\greece_fire_places.csv\")\n",
    "weather = pd.read_csv(\"C:\\\\Users\\\\Bence\\\\Documents\\\\Github\\\\NASA_SpaceApps_challenge_2025\\\\data\\\\greece_fire_weather.csv\")\n"
   ]
  },
  {
   "cell_type": "code",
   "execution_count": 3,
   "id": "38fa7f70",
   "metadata": {},
   "outputs": [],
   "source": [
    "fires = fires.drop(fires[fires[\"confidence\"] < 100].index)\n",
    "fires[\"acq_date\"] = pd.to_datetime(fires[\"acq_date\"], errors=\"coerce\")\n",
    "weather[\"time\"] = pd.to_datetime(weather[\"time\"], errors=\"coerce\")\n",
    "fires_daily = (\n",
    "    fires.groupby(\"acq_date\")\n",
    "    .size()\n",
    "    .reset_index(name=\"fire_count\")\n",
    ")\n",
    "fires_daily[\"fire_occurred\"] = (fires_daily[\"fire_count\"] > 0).astype(int)"
   ]
  },
  {
   "cell_type": "code",
   "execution_count": 4,
   "id": "7f2b509d",
   "metadata": {},
   "outputs": [],
   "source": [
    "places = places.drop(columns=[\"elevation\", \"utc_offset_seconds\", \"timezone\", \"timezone_abbreviation\"])\n",
    "\n",
    "weather = weather.merge(places, on=\"location_id\", how=\"left\")\n",
    "numeric_cols = weather.select_dtypes(include=[np.number]).columns\n",
    "# Group weather by day, aggregate with mean, keep original column names\n",
    "weather_daily = weather.groupby(\"time\")[numeric_cols].mean().reset_index()"
   ]
  },
  {
   "cell_type": "code",
   "execution_count": 5,
   "id": "1448318f",
   "metadata": {},
   "outputs": [],
   "source": [
    "#weather.head().dtypes"
   ]
  },
  {
   "cell_type": "code",
   "execution_count": 6,
   "id": "fa88d43b",
   "metadata": {},
   "outputs": [
    {
     "name": "stderr",
     "output_type": "stream",
     "text": [
      "C:\\Users\\Bence\\AppData\\Local\\Temp\\ipykernel_20164\\550816031.py:4: FutureWarning: A value is trying to be set on a copy of a DataFrame or Series through chained assignment using an inplace method.\n",
      "The behavior will change in pandas 3.0. This inplace method will never work because the intermediate object on which we are setting values always behaves as a copy.\n",
      "\n",
      "For example, when doing 'df[col].method(value, inplace=True)', try using 'df.method({col: value}, inplace=True)' or df[col] = df[col].method(value) instead, to perform the operation inplace on the original object.\n",
      "\n",
      "\n",
      "  df[\"fire_occurred\"].fillna(0, inplace=True)\n"
     ]
    }
   ],
   "source": [
    "# Merge daily weather and fire data for timeseries creation\n",
    "df = weather_daily.merge(fires_daily, left_on=\"time\", right_on=\"acq_date\", how=\"left\")\n",
    "# df = df.drop(columns=\"time\")\n",
    "df[\"fire_occurred\"].fillna(0, inplace=True)\n",
    "df.drop(columns=[\"acq_date\"], inplace=True, errors=\"ignore\")\n",
    "#df.head().dtypes"
   ]
  },
  {
   "cell_type": "code",
   "execution_count": null,
   "id": "77ff81d9",
   "metadata": {},
   "outputs": [
    {
     "name": "stdout",
     "output_type": "stream",
     "text": [
      "        time  weather_code (wmo code)  temperature_2m_mean (°C)  \\\n",
      "0 2000-01-18                     42.6                      4.70   \n",
      "1 2000-01-19                     58.6                      5.46   \n",
      "2 2000-01-20                     26.0                      1.50   \n",
      "3 2000-01-21                      2.4                      1.64   \n",
      "4 2000-01-22                     50.2                      4.44   \n",
      "\n",
      "   temperature_2m_max (°C)  temperature_2m_min (°C)  \\\n",
      "0                     8.66                     0.92   \n",
      "1                     8.28                     2.20   \n",
      "2                     4.16                    -1.02   \n",
      "3                     5.58                    -1.96   \n",
      "4                     7.96                     0.68   \n",
      "\n",
      "   apparent_temperature_mean (°C)  apparent_temperature_max (°C)  \\\n",
      "0                            0.68                           3.90   \n",
      "1                            1.88                           5.80   \n",
      "2                           -3.18                          -0.40   \n",
      "3                           -2.48                           1.06   \n",
      "4                            0.94                           4.68   \n",
      "\n",
      "   apparent_temperature_min (°C)  daylight_duration (s)  \\\n",
      "0                          -2.60              35539.676   \n",
      "1                          -1.54              35627.036   \n",
      "2                          -5.60              35717.488   \n",
      "3                          -6.08              35811.142   \n",
      "4                          -2.68              35907.836   \n",
      "\n",
      "   sunshine_duration (s)  ...  precipitation_hours (h)  \\\n",
      "0              29588.044  ...                      4.8   \n",
      "1              19829.890  ...                     10.0   \n",
      "2              30066.572  ...                      2.8   \n",
      "3              30503.982  ...                      0.0   \n",
      "4              29952.912  ...                      8.4   \n",
      "\n",
      "   wind_speed_10m_max (km/h)  wind_gusts_10m_max (km/h)  \\\n",
      "0                      25.74                      62.58   \n",
      "1                      19.90                      55.30   \n",
      "2                      19.08                      47.54   \n",
      "3                      15.88                      42.98   \n",
      "4                      16.58                      49.90   \n",
      "\n",
      "   wind_direction_10m_dominant (°)  shortwave_radiation_sum (MJ/m²)  \\\n",
      "0                            299.0                            8.850   \n",
      "1                            309.6                            6.274   \n",
      "2                             84.8                           10.484   \n",
      "3                            224.2                            9.946   \n",
      "4                            301.4                            8.514   \n",
      "\n",
      "   et0_fao_evapotranspiration (mm)   latitude  longitude  fire_count  \\\n",
      "0                            1.154  38.024603  23.138707         0.0   \n",
      "1                            1.022  38.024603  23.138707         0.0   \n",
      "2                            1.480  38.024603  23.138707         0.0   \n",
      "3                            1.330  38.024603  23.138707         0.0   \n",
      "4                            1.200  38.024603  23.138707         0.0   \n",
      "\n",
      "   fire_occurred  \n",
      "0            0.0  \n",
      "1            0.0  \n",
      "2            0.0  \n",
      "3            0.0  \n",
      "4            0.0  \n",
      "\n",
      "[5 rows x 23 columns]\n"
     ]
    },
    {
     "name": "stderr",
     "output_type": "stream",
     "text": [
      "C:\\Users\\Bence\\AppData\\Local\\Temp\\ipykernel_20164\\1877599873.py:1: FutureWarning: A value is trying to be set on a copy of a DataFrame or Series through chained assignment using an inplace method.\n",
      "The behavior will change in pandas 3.0. This inplace method will never work because the intermediate object on which we are setting values always behaves as a copy.\n",
      "\n",
      "For example, when doing 'df[col].method(value, inplace=True)', try using 'df.method({col: value}, inplace=True)' or df[col] = df[col].method(value) instead, to perform the operation inplace on the original object.\n",
      "\n",
      "\n",
      "  df[\"fire_count\"].fillna(0, inplace=True)\n"
     ]
    }
   ],
   "source": [
    "df[\"fire_count\"].fillna(0, inplace=True)\n",
    "df.sort_values(\"time\", inplace=True)\n",
    "df.reset_index(drop=True, inplace=True)\n"
   ]
  },
  {
   "cell_type": "code",
   "execution_count": 8,
   "id": "67fda574",
   "metadata": {},
   "outputs": [
    {
     "name": "stdout",
     "output_type": "stream",
     "text": [
      "Input shape: (7982, 30, 15)  (samples, time_steps, features)\n",
      "Target shape: (7982,)\n"
     ]
    }
   ],
   "source": [
    "window_size = 30  # múltbeli napok\n",
    "forecast_horizon = 7  # előrejelzési idő\n",
    "\n",
    "feature_cols = [\n",
    "    col\n",
    "    for col in df.columns\n",
    "    if col\n",
    "    in [\n",
    "        \"temperature_2m_max (°C)\",\n",
    "        \"temperature_2m_min (°C)\",\n",
    "        \"apparent_temperature_max (°C)\",\n",
    "        \"apparent_temperature_min (°C)\",\n",
    "        #\"sunrise (iso8601)\",\n",
    "        #\"sunset (iso8601)\",\n",
    "        \"daylight_duration (s)\",\n",
    "        \"sunshine_duration (s)\",\n",
    "        \"precipitation_sum (mm)\",\n",
    "        \"rain_sum (mm)\",\n",
    "        \"snowfall_sum (cm)\",\n",
    "        \"precipitation_hours (h)\",\n",
    "        \"wind_speed_10m_max (km/h)\",\n",
    "        \"wind_gusts_10m_max (km/h)\",\n",
    "        \"wind_direction_10m_dominant (°)\",\n",
    "        \"shortwave_radiation_sum (MJ/m²)\",\n",
    "        \"et0_fao_evapotranspiration (mm)\"\n",
    "    ]\n",
    "]\n",
    "scaler = MinMaxScaler()\n",
    "df_scaled = df.copy()\n",
    "df_scaled[feature_cols] = scaler.fit_transform(df_scaled[feature_cols])\n",
    "\n",
    "X, y = [], []\n",
    "\n",
    "for i in range(len(df_scaled) - window_size - forecast_horizon):\n",
    "    past_window = df_scaled.iloc[i : i + window_size][feature_cols].values\n",
    "    target_window = df_scaled.iloc[\n",
    "        i + window_size : i + window_size + forecast_horizon\n",
    "    ][\"fire_occurred\"]\n",
    "    X.append(past_window)\n",
    "    y.append(1 if target_window.max() > 0 else 0)\n",
    "\n",
    "\n",
    "X = np.array(X)\n",
    "y = np.array(y).astype(np.float32)\n",
    "\n",
    "print(f\"Input shape: {X.shape}  (samples, time_steps, features)\")\n",
    "print(f\"Target shape: {y.shape}\")\n",
    "\n",
    "np.savez_compressed(\"greece_fire_timeseries.npz\", X=X, y=y)\n"
   ]
  },
  {
   "cell_type": "code",
   "execution_count": 9,
   "id": "37660f81",
   "metadata": {},
   "outputs": [
    {
     "name": "stdout",
     "output_type": "stream",
     "text": [
      "23\n",
      "23\n",
      "15\n",
      "['temperature_2m_max (°C)', 'temperature_2m_min (°C)', 'apparent_temperature_max (°C)', 'apparent_temperature_min (°C)', 'daylight_duration (s)', 'sunshine_duration (s)', 'precipitation_sum (mm)', 'rain_sum (mm)', 'snowfall_sum (cm)', 'precipitation_hours (h)', 'wind_speed_10m_max (km/h)', 'wind_gusts_10m_max (km/h)', 'wind_direction_10m_dominant (°)', 'shortwave_radiation_sum (MJ/m²)', 'et0_fao_evapotranspiration (mm)']\n"
     ]
    }
   ],
   "source": [
    "cols_scaled = df_scaled.columns.tolist()\n",
    "print(len(cols_scaled))\n",
    "cols_df = df.columns.tolist()\n",
    "print(len(cols_df))\n",
    "print(len(feature_cols))\n",
    "print(feature_cols)"
   ]
  },
  {
   "cell_type": "markdown",
   "id": "a19a1c08",
   "metadata": {},
   "source": [
    "Model tanítás:"
   ]
  },
  {
   "cell_type": "code",
   "execution_count": 10,
   "id": "6e707e9f",
   "metadata": {},
   "outputs": [
    {
     "name": "stdout",
     "output_type": "stream",
     "text": [
      "Input shape: (7982, 30, 15)\n",
      "Target shape: (7982,)\n",
      "Fold 1: Train=1332, Test=1330\n",
      "Train shape: (1332, 30, 15), Test shape: (1330, 30, 15)\n",
      "y_train shape: (1332, 1), y_test shape: (1330, 1)\n",
      "NaN in X_train: 0 NaN in y_train: 0\n",
      "Inf in X_train: 0 Inf in y_train: 0\n",
      "Epoch 1/30\n",
      "21/21 [==============================] - 5s 167ms/step - loss: 0.5622 - accuracy: 0.7650 - val_loss: 0.5081 - val_accuracy: 0.7880\n",
      "Epoch 2/30\n",
      "21/21 [==============================] - 3s 149ms/step - loss: 0.4597 - accuracy: 0.7935 - val_loss: 0.3428 - val_accuracy: 0.7880\n",
      "Epoch 3/30\n",
      "21/21 [==============================] - 3s 153ms/step - loss: 0.3913 - accuracy: 0.7853 - val_loss: 0.3431 - val_accuracy: 0.7955\n",
      "Epoch 4/30\n",
      "21/21 [==============================] - 3s 157ms/step - loss: 0.3723 - accuracy: 0.8003 - val_loss: 0.3217 - val_accuracy: 0.8759\n",
      "Epoch 5/30\n",
      "21/21 [==============================] - 3s 158ms/step - loss: 0.3674 - accuracy: 0.7958 - val_loss: 0.3252 - val_accuracy: 0.8368\n",
      "Epoch 6/30\n",
      "21/21 [==============================] - 3s 152ms/step - loss: 0.3589 - accuracy: 0.8131 - val_loss: 0.3259 - val_accuracy: 0.7970\n",
      "Epoch 7/30\n",
      "21/21 [==============================] - 3s 150ms/step - loss: 0.3656 - accuracy: 0.8191 - val_loss: 0.3098 - val_accuracy: 0.9053\n",
      "Epoch 8/30\n",
      "21/21 [==============================] - 3s 155ms/step - loss: 0.3519 - accuracy: 0.8116 - val_loss: 0.3481 - val_accuracy: 0.7932\n",
      "Epoch 9/30\n",
      "21/21 [==============================] - 3s 152ms/step - loss: 0.3475 - accuracy: 0.8056 - val_loss: 0.3022 - val_accuracy: 0.9188\n",
      "Epoch 10/30\n",
      "21/21 [==============================] - 3s 150ms/step - loss: 0.3418 - accuracy: 0.8281 - val_loss: 0.3130 - val_accuracy: 0.8752\n",
      "Epoch 11/30\n",
      "21/21 [==============================] - 3s 150ms/step - loss: 0.3360 - accuracy: 0.8213 - val_loss: 0.2982 - val_accuracy: 0.9068\n",
      "Epoch 12/30\n",
      "21/21 [==============================] - 3s 150ms/step - loss: 0.3297 - accuracy: 0.8176 - val_loss: 0.3273 - val_accuracy: 0.8880\n",
      "Epoch 13/30\n",
      "21/21 [==============================] - 3s 151ms/step - loss: 0.3434 - accuracy: 0.8288 - val_loss: 0.3031 - val_accuracy: 0.8805\n",
      "Epoch 14/30\n",
      "21/21 [==============================] - 3s 153ms/step - loss: 0.3341 - accuracy: 0.8378 - val_loss: 0.3361 - val_accuracy: 0.8278\n",
      "Epoch 15/30\n",
      "21/21 [==============================] - 3s 150ms/step - loss: 0.3345 - accuracy: 0.8311 - val_loss: 0.3020 - val_accuracy: 0.9083\n",
      "Epoch 16/30\n",
      "21/21 [==============================] - 3s 151ms/step - loss: 0.3301 - accuracy: 0.8266 - val_loss: 0.3008 - val_accuracy: 0.8902\n",
      "INFO:tensorflow:Assets written to: ram://2a30b56a-d560-4007-b3a6-bb2c9580fabe/assets\n"
     ]
    },
    {
     "name": "stderr",
     "output_type": "stream",
     "text": [
      "WARNING:absl:<keras.layers.rnn.lstm_v1.LSTM object at 0x000002537A36DA60> has the same name 'LSTM' as a built-in Keras object. Consider renaming <class 'keras.layers.rnn.lstm_v1.LSTM'> to avoid naming conflicts when loading with `tf.keras.models.load_model`. If renaming is not possible, pass the object in the `custom_objects` parameter of the load function.\n"
     ]
    },
    {
     "name": "stdout",
     "output_type": "stream",
     "text": [
      "42/42 [==============================] - 1s 18ms/step - loss: 0.2982 - accuracy: 0.9068\n",
      "\n",
      "✅ Teszt pontosság (Fold 1): 90.68%\n",
      "Fold 2: Train=2662, Test=1330\n",
      "Train shape: (2662, 30, 15), Test shape: (1330, 30, 15)\n",
      "y_train shape: (2662, 1), y_test shape: (1330, 1)\n",
      "NaN in X_train: 0 NaN in y_train: 0\n",
      "Inf in X_train: 0 Inf in y_train: 0\n",
      "Epoch 1/30\n",
      "42/42 [==============================] - 7s 145ms/step - loss: 0.4752 - accuracy: 0.7915 - val_loss: 0.4926 - val_accuracy: 0.7955\n",
      "Epoch 2/30\n",
      "42/42 [==============================] - 6s 139ms/step - loss: 0.3435 - accuracy: 0.8392 - val_loss: 0.4577 - val_accuracy: 0.8226\n",
      "Epoch 3/30\n",
      "42/42 [==============================] - 6s 139ms/step - loss: 0.3381 - accuracy: 0.8535 - val_loss: 0.4575 - val_accuracy: 0.8414\n",
      "Epoch 4/30\n",
      "42/42 [==============================] - 6s 140ms/step - loss: 0.3221 - accuracy: 0.8584 - val_loss: 0.4464 - val_accuracy: 0.8466\n",
      "Epoch 5/30\n",
      "42/42 [==============================] - 6s 141ms/step - loss: 0.3270 - accuracy: 0.8542 - val_loss: 0.4167 - val_accuracy: 0.8504\n",
      "Epoch 6/30\n",
      "42/42 [==============================] - 6s 142ms/step - loss: 0.3187 - accuracy: 0.8576 - val_loss: 0.4278 - val_accuracy: 0.8451\n",
      "Epoch 7/30\n",
      "42/42 [==============================] - 6s 143ms/step - loss: 0.3120 - accuracy: 0.8633 - val_loss: 0.4746 - val_accuracy: 0.8368\n",
      "Epoch 8/30\n",
      "42/42 [==============================] - 6s 141ms/step - loss: 0.3116 - accuracy: 0.8629 - val_loss: 0.4093 - val_accuracy: 0.8481\n",
      "Epoch 9/30\n",
      "42/42 [==============================] - 6s 140ms/step - loss: 0.3058 - accuracy: 0.8685 - val_loss: 0.4577 - val_accuracy: 0.8414\n",
      "Epoch 10/30\n",
      "42/42 [==============================] - 6s 139ms/step - loss: 0.3096 - accuracy: 0.8603 - val_loss: 0.4828 - val_accuracy: 0.8406\n",
      "Epoch 11/30\n",
      "42/42 [==============================] - 6s 139ms/step - loss: 0.3015 - accuracy: 0.8723 - val_loss: 0.5808 - val_accuracy: 0.8098\n",
      "Epoch 12/30\n",
      "42/42 [==============================] - 6s 140ms/step - loss: 0.2929 - accuracy: 0.8783 - val_loss: 0.4564 - val_accuracy: 0.8256\n",
      "Epoch 13/30\n",
      "42/42 [==============================] - 6s 139ms/step - loss: 0.2974 - accuracy: 0.8685 - val_loss: 0.4952 - val_accuracy: 0.8135\n",
      "INFO:tensorflow:Assets written to: ram://078706cf-66d6-4367-82ee-62f22dc0d538/assets\n"
     ]
    },
    {
     "name": "stderr",
     "output_type": "stream",
     "text": [
      "INFO:tensorflow:Assets written to: ram://078706cf-66d6-4367-82ee-62f22dc0d538/assets\n",
      "WARNING:absl:<keras.layers.rnn.lstm_v1.LSTM object at 0x0000025397947130> has the same name 'LSTM' as a built-in Keras object. Consider renaming <class 'keras.layers.rnn.lstm_v1.LSTM'> to avoid naming conflicts when loading with `tf.keras.models.load_model`. If renaming is not possible, pass the object in the `custom_objects` parameter of the load function.\n"
     ]
    },
    {
     "name": "stdout",
     "output_type": "stream",
     "text": [
      "42/42 [==============================] - 1s 18ms/step - loss: 0.4093 - accuracy: 0.8481\n",
      "\n",
      "✅ Teszt pontosság (Fold 2): 84.81%\n",
      "Fold 3: Train=3992, Test=1330\n",
      "Train shape: (3992, 30, 15), Test shape: (1330, 30, 15)\n",
      "y_train shape: (3992, 1), y_test shape: (1330, 1)\n",
      "NaN in X_train: 0 NaN in y_train: 0\n",
      "Inf in X_train: 0 Inf in y_train: 0\n",
      "Epoch 1/30\n",
      "63/63 [==============================] - 10s 139ms/step - loss: 0.4617 - accuracy: 0.7923 - val_loss: 0.2892 - val_accuracy: 0.8835\n",
      "Epoch 2/30\n",
      "63/63 [==============================] - 8s 134ms/step - loss: 0.3701 - accuracy: 0.8447 - val_loss: 0.2378 - val_accuracy: 0.8947\n",
      "Epoch 3/30\n",
      "63/63 [==============================] - 8s 134ms/step - loss: 0.3619 - accuracy: 0.8464 - val_loss: 0.2414 - val_accuracy: 0.8872\n",
      "Epoch 4/30\n",
      "63/63 [==============================] - 9s 136ms/step - loss: 0.3552 - accuracy: 0.8525 - val_loss: 0.2795 - val_accuracy: 0.9083\n",
      "Epoch 5/30\n",
      "63/63 [==============================] - 8s 134ms/step - loss: 0.3473 - accuracy: 0.8550 - val_loss: 0.2521 - val_accuracy: 0.8820\n",
      "Epoch 6/30\n",
      "63/63 [==============================] - 8s 133ms/step - loss: 0.3468 - accuracy: 0.8545 - val_loss: 0.2330 - val_accuracy: 0.9075\n",
      "Epoch 7/30\n",
      "63/63 [==============================] - 8s 135ms/step - loss: 0.3372 - accuracy: 0.8600 - val_loss: 0.2541 - val_accuracy: 0.9083\n",
      "Epoch 8/30\n",
      "63/63 [==============================] - 8s 135ms/step - loss: 0.3393 - accuracy: 0.8567 - val_loss: 0.2455 - val_accuracy: 0.9008\n",
      "Epoch 9/30\n",
      "63/63 [==============================] - 8s 134ms/step - loss: 0.3377 - accuracy: 0.8570 - val_loss: 0.2382 - val_accuracy: 0.9143\n",
      "Epoch 10/30\n",
      "63/63 [==============================] - 9s 136ms/step - loss: 0.3366 - accuracy: 0.8580 - val_loss: 0.2346 - val_accuracy: 0.9135\n",
      "Epoch 11/30\n",
      "63/63 [==============================] - 9s 136ms/step - loss: 0.3292 - accuracy: 0.8615 - val_loss: 0.2326 - val_accuracy: 0.9060\n",
      "Epoch 12/30\n",
      "63/63 [==============================] - 8s 135ms/step - loss: 0.3241 - accuracy: 0.8617 - val_loss: 0.2241 - val_accuracy: 0.9143\n",
      "Epoch 13/30\n",
      "63/63 [==============================] - 9s 135ms/step - loss: 0.3303 - accuracy: 0.8570 - val_loss: 0.2359 - val_accuracy: 0.9083\n",
      "Epoch 14/30\n",
      "63/63 [==============================] - 9s 137ms/step - loss: 0.3264 - accuracy: 0.8580 - val_loss: 0.2307 - val_accuracy: 0.9256\n",
      "Epoch 15/30\n",
      "63/63 [==============================] - 9s 138ms/step - loss: 0.3309 - accuracy: 0.8580 - val_loss: 0.2451 - val_accuracy: 0.9271\n",
      "Epoch 16/30\n",
      "63/63 [==============================] - 9s 137ms/step - loss: 0.3206 - accuracy: 0.8562 - val_loss: 0.2197 - val_accuracy: 0.9308\n",
      "Epoch 17/30\n",
      "63/63 [==============================] - 8s 135ms/step - loss: 0.3104 - accuracy: 0.8642 - val_loss: 0.2349 - val_accuracy: 0.9105\n",
      "Epoch 18/30\n",
      "63/63 [==============================] - 8s 134ms/step - loss: 0.3126 - accuracy: 0.8590 - val_loss: 0.2349 - val_accuracy: 0.9203\n",
      "Epoch 19/30\n",
      "63/63 [==============================] - 8s 134ms/step - loss: 0.3101 - accuracy: 0.8607 - val_loss: 0.1997 - val_accuracy: 0.9218\n",
      "Epoch 20/30\n",
      "63/63 [==============================] - 9s 136ms/step - loss: 0.3082 - accuracy: 0.8635 - val_loss: 0.2283 - val_accuracy: 0.9218\n",
      "Epoch 21/30\n",
      "63/63 [==============================] - 8s 134ms/step - loss: 0.2992 - accuracy: 0.8625 - val_loss: 0.2291 - val_accuracy: 0.9128\n",
      "Epoch 22/30\n",
      "63/63 [==============================] - 9s 138ms/step - loss: 0.2962 - accuracy: 0.8667 - val_loss: 0.2378 - val_accuracy: 0.9143\n",
      "Epoch 23/30\n",
      "63/63 [==============================] - 9s 136ms/step - loss: 0.2974 - accuracy: 0.8675 - val_loss: 0.2186 - val_accuracy: 0.9105\n",
      "Epoch 24/30\n",
      "63/63 [==============================] - 9s 137ms/step - loss: 0.2927 - accuracy: 0.8620 - val_loss: 0.2362 - val_accuracy: 0.9135\n",
      "INFO:tensorflow:Assets written to: ram://92c8a032-8820-4322-b68d-43a64e93f23d/assets\n"
     ]
    },
    {
     "name": "stderr",
     "output_type": "stream",
     "text": [
      "INFO:tensorflow:Assets written to: ram://92c8a032-8820-4322-b68d-43a64e93f23d/assets\n",
      "WARNING:absl:<keras.layers.rnn.lstm_v1.LSTM object at 0x00000253989E4A90> has the same name 'LSTM' as a built-in Keras object. Consider renaming <class 'keras.layers.rnn.lstm_v1.LSTM'> to avoid naming conflicts when loading with `tf.keras.models.load_model`. If renaming is not possible, pass the object in the `custom_objects` parameter of the load function.\n"
     ]
    },
    {
     "name": "stdout",
     "output_type": "stream",
     "text": [
      "42/42 [==============================] - 1s 19ms/step - loss: 0.1997 - accuracy: 0.9218\n",
      "\n",
      "✅ Teszt pontosság (Fold 3): 92.18%\n",
      "Fold 4: Train=5322, Test=1330\n",
      "Train shape: (5322, 30, 15), Test shape: (1330, 30, 15)\n",
      "y_train shape: (5322, 1), y_test shape: (1330, 1)\n",
      "NaN in X_train: 0 NaN in y_train: 0\n",
      "Inf in X_train: 0 Inf in y_train: 0\n",
      "Epoch 1/30\n",
      "84/84 [==============================] - 13s 137ms/step - loss: 0.4171 - accuracy: 0.8082 - val_loss: 0.4334 - val_accuracy: 0.8346\n",
      "Epoch 2/30\n",
      "84/84 [==============================] - 11s 135ms/step - loss: 0.3394 - accuracy: 0.8625 - val_loss: 0.4355 - val_accuracy: 0.8429\n",
      "Epoch 3/30\n",
      "84/84 [==============================] - 11s 133ms/step - loss: 0.3234 - accuracy: 0.8655 - val_loss: 0.4458 - val_accuracy: 0.8406\n",
      "Epoch 4/30\n",
      "84/84 [==============================] - 11s 133ms/step - loss: 0.3232 - accuracy: 0.8672 - val_loss: 0.4488 - val_accuracy: 0.8218\n",
      "Epoch 5/30\n",
      "84/84 [==============================] - 11s 133ms/step - loss: 0.3205 - accuracy: 0.8670 - val_loss: 0.4336 - val_accuracy: 0.8459\n",
      "Epoch 6/30\n",
      "84/84 [==============================] - 11s 132ms/step - loss: 0.3079 - accuracy: 0.8749 - val_loss: 0.4404 - val_accuracy: 0.8398\n",
      "INFO:tensorflow:Assets written to: ram://9925aeec-f70c-4628-a081-f2ce5f1d109b/assets\n"
     ]
    },
    {
     "name": "stderr",
     "output_type": "stream",
     "text": [
      "INFO:tensorflow:Assets written to: ram://9925aeec-f70c-4628-a081-f2ce5f1d109b/assets\n",
      "WARNING:absl:<keras.layers.rnn.lstm_v1.LSTM object at 0x000002531333C580> has the same name 'LSTM' as a built-in Keras object. Consider renaming <class 'keras.layers.rnn.lstm_v1.LSTM'> to avoid naming conflicts when loading with `tf.keras.models.load_model`. If renaming is not possible, pass the object in the `custom_objects` parameter of the load function.\n"
     ]
    },
    {
     "name": "stdout",
     "output_type": "stream",
     "text": [
      "42/42 [==============================] - 1s 18ms/step - loss: 0.4334 - accuracy: 0.8346\n",
      "\n",
      "✅ Teszt pontosság (Fold 4): 83.46%\n",
      "Fold 5: Train=6652, Test=1330\n",
      "Train shape: (6652, 30, 15), Test shape: (1330, 30, 15)\n",
      "y_train shape: (6652, 1), y_test shape: (1330, 1)\n",
      "NaN in X_train: 0 NaN in y_train: 0\n",
      "Inf in X_train: 0 Inf in y_train: 0\n",
      "Epoch 1/30\n",
      "104/104 [==============================] - 16s 136ms/step - loss: 0.4299 - accuracy: 0.7983 - val_loss: 0.4382 - val_accuracy: 0.7767\n",
      "Epoch 2/30\n",
      "104/104 [==============================] - 14s 135ms/step - loss: 0.3581 - accuracy: 0.8540 - val_loss: 0.4257 - val_accuracy: 0.8060\n",
      "Epoch 3/30\n",
      "104/104 [==============================] - 14s 135ms/step - loss: 0.3453 - accuracy: 0.8615 - val_loss: 0.4532 - val_accuracy: 0.7692\n",
      "Epoch 4/30\n",
      "104/104 [==============================] - 14s 136ms/step - loss: 0.3391 - accuracy: 0.8615 - val_loss: 0.4320 - val_accuracy: 0.8128\n",
      "Epoch 5/30\n",
      "104/104 [==============================] - 14s 135ms/step - loss: 0.3312 - accuracy: 0.8697 - val_loss: 0.4829 - val_accuracy: 0.7677\n",
      "Epoch 6/30\n",
      "104/104 [==============================] - 14s 136ms/step - loss: 0.3274 - accuracy: 0.8695 - val_loss: 0.4097 - val_accuracy: 0.8263\n",
      "Epoch 7/30\n",
      "104/104 [==============================] - 14s 134ms/step - loss: 0.3290 - accuracy: 0.8655 - val_loss: 0.4000 - val_accuracy: 0.8301\n",
      "Epoch 8/30\n",
      "104/104 [==============================] - 14s 135ms/step - loss: 0.3255 - accuracy: 0.8704 - val_loss: 0.4544 - val_accuracy: 0.8008\n",
      "Epoch 9/30\n",
      "104/104 [==============================] - 14s 134ms/step - loss: 0.3227 - accuracy: 0.8683 - val_loss: 0.4107 - val_accuracy: 0.8308\n",
      "Epoch 10/30\n",
      "104/104 [==============================] - 14s 138ms/step - loss: 0.3245 - accuracy: 0.8695 - val_loss: 0.4273 - val_accuracy: 0.8211\n",
      "Epoch 11/30\n",
      "104/104 [==============================] - 14s 137ms/step - loss: 0.3199 - accuracy: 0.8727 - val_loss: 0.4547 - val_accuracy: 0.8090\n",
      "Epoch 12/30\n",
      "104/104 [==============================] - 14s 136ms/step - loss: 0.3248 - accuracy: 0.8670 - val_loss: 0.4090 - val_accuracy: 0.8293\n",
      "INFO:tensorflow:Assets written to: ram://239c77e2-ef5a-4c4f-b1eb-0d7a8549a22c/assets\n"
     ]
    },
    {
     "name": "stderr",
     "output_type": "stream",
     "text": [
      "INFO:tensorflow:Assets written to: ram://239c77e2-ef5a-4c4f-b1eb-0d7a8549a22c/assets\n",
      "WARNING:absl:<keras.layers.rnn.lstm_v1.LSTM object at 0x000002537E7BBCA0> has the same name 'LSTM' as a built-in Keras object. Consider renaming <class 'keras.layers.rnn.lstm_v1.LSTM'> to avoid naming conflicts when loading with `tf.keras.models.load_model`. If renaming is not possible, pass the object in the `custom_objects` parameter of the load function.\n"
     ]
    },
    {
     "name": "stdout",
     "output_type": "stream",
     "text": [
      "42/42 [==============================] - 1s 19ms/step - loss: 0.4000 - accuracy: 0.8301\n",
      "\n",
      "✅ Teszt pontosság (Fold 5): 83.01%\n"
     ]
    }
   ],
   "source": [
    "import numpy as np\n",
    "from tensorflow.keras.models import Sequential\n",
    "from tensorflow.compat.v1.keras.layers import LSTM\n",
    "from tensorflow.keras.layers import Dense, Dropout\n",
    "from tensorflow.keras.callbacks import EarlyStopping, TensorBoard\n",
    "from sklearn.model_selection import TimeSeriesSplit\n",
    "import joblib\n",
    "import datetime\n",
    "\n",
    "# TensorBoard setup for Keras\n",
    "log_dir = \"logs/fit/\" + datetime.datetime.now().strftime(\"%Y%m%d-%H%M%S\")\n",
    "tensorboard_callback = TensorBoard(log_dir=log_dir, histogram_freq=1, write_graph=True, write_images=True)\n",
    "\n",
    "# Adatok betöltése\n",
    "data = np.load(\"greece_fire_timeseries.npz\")\n",
    "X = data[\"X\"]\n",
    "y = data[\"y\"]\n",
    "\n",
    "print(\"Input shape:\", X.shape)\n",
    "print(\"Target shape:\", y.shape)\n",
    "\n",
    "# Train-test split\n",
    "tscv = TimeSeriesSplit(n_splits=5)\n",
    "\n",
    "for fold, (train_idx, test_idx) in enumerate(tscv.split(X)):\n",
    "    print(f\"Fold {fold+1}: Train={len(train_idx)}, Test={len(test_idx)}\")\n",
    "    X_train, X_test = X[train_idx].astype(np.float32), X[test_idx].astype(np.float32)\n",
    "    y_train, y_test = y[train_idx].astype(np.float32), y[test_idx].astype(np.float32)\n",
    "\n",
    "    # Reshape targets for Keras (samples, 1)\n",
    "    y_train = y_train.reshape(-1, 1)\n",
    "    y_test = y_test.reshape(-1, 1)\n",
    "\n",
    "    print(f\"Train shape: {X_train.shape}, Test shape: {X_test.shape}\")\n",
    "    print(f\"y_train shape: {y_train.shape}, y_test shape: {y_test.shape}\")\n",
    "\n",
    "    # Check for NaN/Inf in data\n",
    "    print(\"NaN in X_train:\", np.isnan(X_train).sum(), \"NaN in y_train:\", np.isnan(y_train).sum())\n",
    "    print(\"Inf in X_train:\", np.isinf(X_train).sum(), \"Inf in y_train:\", np.isinf(y_train).sum())\n",
    "\n",
    "    # Simpler LSTM model for binary classification\n",
    "    model = Sequential([\n",
    "        LSTM(128, input_shape=(X_train.shape[1], X_train.shape[2])),\n",
    "        Dropout(0.3),\n",
    "        Dense(32, activation='relu'),\n",
    "        Dense(1, activation='sigmoid')  # Kimenet 0-1 között\n",
    "    ])\n",
    "\n",
    "    model.compile(\n",
    "        optimizer='adam',\n",
    "        loss='binary_crossentropy',\n",
    "        metrics=['accuracy']\n",
    "    )\n",
    "\n",
    "    # Early stopping\n",
    "    early_stop = EarlyStopping(monitor='val_loss', patience=5, restore_best_weights=True)\n",
    "\n",
    "    # Tanítás\n",
    "    history = model.fit(\n",
    "        X_train, y_train,\n",
    "        validation_data=(X_test, y_test),\n",
    "        epochs=30,\n",
    "        batch_size=64,\n",
    "        callbacks=[early_stop, tensorboard_callback],\n",
    "        verbose=1\n",
    "    )\n",
    "    # Modell mentése\n",
    "    joblib.dump(model, f'model_fold{fold+1}.pkl')\n",
    "\n",
    "    # Értékelés\n",
    "    loss, acc = model.evaluate(X_test, y_test)\n",
    "    print(f\"\\n✅ Teszt pontosság (Fold {fold+1}): {acc*100:.2f}%\")"
   ]
  },
  {
   "cell_type": "code",
   "execution_count": null,
   "id": "fc64f4df",
   "metadata": {},
   "outputs": [],
   "source": [
    "#evolved version of the NN\n"
   ]
  },
  {
   "cell_type": "code",
   "execution_count": 11,
   "id": "75fc4d9e",
   "metadata": {},
   "outputs": [],
   "source": [
    "# TensorBoard setup for Keras\n",
    "from tensorflow.keras.callbacks import TensorBoard\n",
    "import datetime\n",
    "log_dir = \"logs/fit/\" + datetime.datetime.now().strftime(\"%Y%m%d-%H%M%S\")\n",
    "tensorboard_callback = TensorBoard(log_dir=log_dir, histogram_freq=1, write_graph=True, write_images=True)"
   ]
  },
  {
   "cell_type": "code",
   "execution_count": 14,
   "id": "de7578fb",
   "metadata": {},
   "outputs": [],
   "source": [
    "\n",
    "model.save(f\"model_fold{fold+1}.h5\")"
   ]
  },
  {
   "cell_type": "code",
   "execution_count": 15,
   "id": "689591dd",
   "metadata": {},
   "outputs": [
    {
     "data": {
      "image/png": "[encoded data removed]",
      "text/plain": [
       "<Figure size 1200x500 with 2 Axes>"
      ]
     },
     "metadata": {},
     "output_type": "display_data"
    }
   ],
   "source": [
    "import matplotlib.pyplot as plt\n",
    "\n",
    "plt.figure(figsize=(12, 5))\n",
    "\n",
    "# --- Loss ---\n",
    "plt.subplot(1, 2, 1)\n",
    "plt.plot(history.history[\"loss\"], label=\"Train Loss\")\n",
    "plt.plot(history.history[\"val_loss\"], label=\"Val Loss\")\n",
    "plt.title(\"Model Loss\")\n",
    "plt.xlabel(\"Epoch\")\n",
    "plt.ylabel(\"Loss\")\n",
    "plt.legend()\n",
    "plt.grid(True)\n",
    "\n",
    "# --- Accuracy ---\n",
    "plt.subplot(1, 2, 2)\n",
    "plt.plot(history.history[\"accuracy\"], label=\"Train Accuracy\")\n",
    "plt.plot(history.history[\"val_accuracy\"], label=\"Val Accuracy\")\n",
    "plt.title(\"Model Accuracy\")\n",
    "plt.xlabel(\"Epoch\")\n",
    "plt.ylabel(\"Accuracy\")\n",
    "plt.legend()\n",
    "plt.grid(True)\n",
    "\n",
    "plt.tight_layout()\n",
    "plt.show()\n"
   ]
  }
 ],
 "metadata": {
  "kernelspec": {
   "display_name": "tfdml_new",
   "language": "python",
   "name": "python3"
  },
  "language_info": {
   "codemirror_mode": {
    "name": "ipython",
    "version": 3
   },
   "file_extension": ".py",
   "mimetype": "text/x-python",
   "name": "python",
   "nbconvert_exporter": "python",
   "pygments_lexer": "ipython3",
   "version": "3.9.23"
  }
 },
 "nbformat": 4,
 "nbformat_minor": 5
}
